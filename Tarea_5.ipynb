{
  "cells": [
    {
      "cell_type": "markdown",
      "metadata": {
        "id": "view-in-github",
        "colab_type": "text"
      },
      "source": [
        "<a href=\"https://colab.research.google.com/github/KalebAvila/ProyectoEnConjunto_KAAavila_FMHerrada/blob/main/Tarea_5.ipynb\" target=\"_parent\"><img src=\"https://colab.research.google.com/assets/colab-badge.svg\" alt=\"Open In Colab\"/></a>"
      ]
    },
    {
      "cell_type": "markdown",
      "metadata": {
        "id": "_uoX8M3bNEa8"
      },
      "source": [
        "<img style=\"float: left; margin: 30px 15px 15px 15px;\" src=\"https://encrypted-tbn0.gstatic.com/images?q=tbn:ANd9GcTFzQj91sOlkeDFkg5HDbjtR4QJYmLXkfMNig&usqp=CAU\" width=\"400\" height=\"500\" />\n",
        "    \n",
        "    \n",
        "### <font color='navy'> Modelos no lineales para pronósticos.\n",
        "\n",
        "**Nombres:** Kaleb Azael Avila Padilla, Flavio Maximiliano Herrada Avalos.\n",
        "\n",
        "**Fecha:** 10 de Marzo de 2024.\n",
        "\n",
        "**Expediente** : 724405.\n",
        "    \n",
        "**Profesor:** Oscar David Jaramillo Zuluaga.\n",
        "    \n",
        "**Link Github**:https://github.com/KalebAvila/ProyectoEnConjunto_KAAavila_FMHerrada\n",
        "\n",
        "# Tarea5: Clase 13"
      ]
    },
    {
      "cell_type": "markdown",
      "metadata": {
        "id": "Fg0DSCmmNEbB"
      },
      "source": [
        "## Tarea\n",
        "\n",
        "> Implementar todas las técnicas vistas en esta clase al siguiente dataset para predecir el precio de las viviendas:\n",
        "\n",
        "https://www.kaggle.com/datasets/yasserh/housing-prices-dataset\n"
      ]
    },
    {
      "cell_type": "markdown",
      "metadata": {
        "id": "_7XW7agqNEbC"
      },
      "source": [
        "Código de solución estudiante 1"
      ]
    },
    {
      "cell_type": "code",
      "execution_count": null,
      "metadata": {
        "id": "C_x6Hy5wNEbC"
      },
      "outputs": [],
      "source": [
        "# Código de solución estudiante 1\n",
        ".\n",
        ".\n",
        ".\n",
        ".\n"
      ]
    },
    {
      "cell_type": "markdown",
      "metadata": {
        "id": "gPSIDOIhNEbE"
      },
      "source": [
        "Código de solución estudiante 2"
      ]
    },
    {
      "cell_type": "code",
      "execution_count": null,
      "metadata": {
        "id": "yhw0vRqyNEbE"
      },
      "outputs": [],
      "source": [
        "# Código de solución estudiante 2\n",
        ".\n",
        ".\n",
        ".\n",
        ".\n"
      ]
    }
  ],
  "metadata": {
    "kernelspec": {
      "display_name": "Python 3 (ipykernel)",
      "language": "python",
      "name": "python3"
    },
    "language_info": {
      "codemirror_mode": {
        "name": "ipython",
        "version": 3
      },
      "file_extension": ".py",
      "mimetype": "text/x-python",
      "name": "python",
      "nbconvert_exporter": "python",
      "pygments_lexer": "ipython3",
      "version": "3.9.12"
    },
    "colab": {
      "provenance": [],
      "include_colab_link": true
    }
  },
  "nbformat": 4,
  "nbformat_minor": 0
}